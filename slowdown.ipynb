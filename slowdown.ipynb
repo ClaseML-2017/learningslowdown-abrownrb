{
 "cells": [
  {
   "cell_type": "markdown",
   "metadata": {},
   "source": [
    "# Learning slowdown\n",
    "## Alicia Brown\n",
    "### 143960"
   ]
  },
  {
   "cell_type": "markdown",
   "metadata": {},
   "source": [
    "#### Paquetes necesarios"
   ]
  },
  {
   "cell_type": "code",
   "execution_count": 12,
   "metadata": {
    "collapsed": true
   },
   "outputs": [],
   "source": [
    "import tensorflow as tf\n",
    "import numpy as np\n",
    "import matplotlib.pyplot as plt\n",
    "from sklearn.model_selection import train_test_split"
   ]
  },
  {
   "cell_type": "markdown",
   "metadata": {},
   "source": [
    "#### Red neuronal 2 - 1- 1 - 1 "
   ]
  },
  {
   "cell_type": "code",
   "execution_count": 13,
   "metadata": {
    "collapsed": true
   },
   "outputs": [],
   "source": [
    "X=np.asarray([[0,0],[0,1],[1,0],[1,1]])\n",
    "Y=np.asarray([[0],[0],[0],[1]])\n",
    "input_size=2\n",
    "middle_size = 1\n",
    "middle_size2 = 1\n",
    "output_layer_size=1\n",
    "\n",
    "x = tf.placeholder(tf.float32, [None, input_size])\n",
    "y_ = tf.placeholder(tf.float32, [None, output_layer_size])"
   ]
  },
  {
   "cell_type": "code",
   "execution_count": 14,
   "metadata": {},
   "outputs": [],
   "source": [
    "W_layer1 = tf.Variable(tf.random_uniform([input_size,middle_size], -1, 1), name=\"W_layer1\")\n",
    "b_layer1 = tf.Variable(tf.zeros([middle_size]), name=\"b_layer1\")\n",
    "\n",
    "W_layer2 = tf.Variable(tf.random_uniform([middle_size,middle_size2], -1, 1), name=\"W_layer2\")\n",
    "b_layer2 = tf.Variable(tf.zeros([middle_size2]), name=\"b_layer2\")\n",
    "\n",
    "W_layer3 = tf.Variable(tf.random_uniform([middle_size2,output_layer_size], -1, 1), name=\"W_layer3\")\n",
    "b_layer3 = tf.Variable(tf.zeros([output_layer_size]), name=\"b_layer3\")"
   ]
  },
  {
   "cell_type": "code",
   "execution_count": 15,
   "metadata": {},
   "outputs": [],
   "source": [
    "y = tf.nn.sigmoid(tf.matmul(x,W_layer1)+b_layer1) \n",
    "lossfn = tf.reduce_mean(tf.reduce_sum((y_-y)**2))\n",
    "train_step = tf.train.GradientDescentOptimizer(0.01).minimize(lossfn)\n",
    "init = tf.global_variables_initializer()\n",
    "sess = tf.Session()"
   ]
  },
  {
   "cell_type": "code",
   "execution_count": 16,
   "metadata": {
    "collapsed": true
   },
   "outputs": [],
   "source": [
    "sess.run(init)\n",
    "for i in range(1000):\n",
    "  sess.run(train_step, feed_dict={x: X, y_: Y})"
   ]
  },
  {
   "cell_type": "markdown",
   "metadata": {},
   "source": [
    "#### Visualización del learning slowdown"
   ]
  },
  {
   "cell_type": "code",
   "execution_count": 17,
   "metadata": {},
   "outputs": [
    {
     "data": {
      "image/png": "[encoded data removed]",
      "text/plain": [
       "<matplotlib.figure.Figure at 0x114055550>"
      ]
     },
     "metadata": {},
     "output_type": "display_data"
    }
   ],
   "source": [
    "w1s= []\n",
    "w2s = []\n",
    "w3s = []\n",
    "sess.run(init)\n",
    "for i in range(100000):\n",
    "    sess.run(train_step, feed_dict={x: X, y_: Y})\n",
    "    w1s += [sess.run(W_layer1)]\n",
    "    w2s += [sess.run(W_layer2)]\n",
    "    w3s += [sess.run(W_layer3)]\n",
    "\n",
    "W1 = w1s[-1]\n",
    "W2 = w2s[-1]\n",
    "W3 = w2s[-1]\n",
    "\n",
    "l1 = [np.mean(w / W1) for w in w1s]\n",
    "l2 = [np.mean(w / W2) for w in w2s]\n",
    "l3 = [np.mean(w / W2) for w in w3s]\n",
    "\n",
    "x = range(100000)\n",
    "\n",
    "\n",
    "plt.plot(x, l1, 'r-')\n",
    "plt.plot(x, l2, 'g-') \n",
    "plt.plot(x, l3, 'b-') \n",
    "plt.show()\n"
   ]
  },
  {
   "cell_type": "code",
   "execution_count": 18,
   "metadata": {
    "collapsed": true
   },
   "outputs": [],
   "source": [
    "sess.close()"
   ]
  },
  {
   "cell_type": "code",
   "execution_count": null,
   "metadata": {
    "collapsed": true
   },
   "outputs": [],
   "source": []
  }
 ],
 "metadata": {
  "kernelspec": {
   "display_name": "Python 2",
   "language": "python",
   "name": "python2"
  },
  "language_info": {
   "codemirror_mode": {
    "name": "ipython",
    "version": 2
   },
   "file_extension": ".py",
   "mimetype": "text/x-python",
   "name": "python",
   "nbconvert_exporter": "python",
   "pygments_lexer": "ipython2",
   "version": "2.7.13"
  }
 },
 "nbformat": 4,
 "nbformat_minor": 2
}
